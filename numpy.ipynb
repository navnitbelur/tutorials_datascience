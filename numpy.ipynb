{
 "cells": [
  {
   "cell_type": "code",
   "execution_count": 15,
   "metadata": {
    "collapsed": false
   },
   "outputs": [
    {
     "name": "stdout",
     "output_type": "stream",
     "text": [
      "[0, 1, 2, 3, 4, 5, 6, 7, 8, 9]\n",
      "[0, 1, 2, 3, 4, 5, 6, 7, 8, 9]\n"
     ]
    }
   ],
   "source": [
    "# list comprehension\n",
    "print([0, 1, 2, 3, 4, 5, 6, 7, 8, 9])\n",
    "print([i for i in range(10)])"
   ]
  },
  {
   "cell_type": "code",
   "execution_count": 16,
   "metadata": {
    "collapsed": false
   },
   "outputs": [],
   "source": [
    "# functions\n",
    "\n",
    "def square(x):\n",
    "    return x**2\n",
    "\n",
    "def sum(a, b):\n",
    "    return a + b"
   ]
  },
  {
   "cell_type": "code",
   "execution_count": 17,
   "metadata": {
    "collapsed": false
   },
   "outputs": [
    {
     "name": "stdout",
     "output_type": "stream",
     "text": [
      "[0, 1, 4, 9, 16, 25, 36, 49, 64, 81]\n"
     ]
    }
   ],
   "source": [
    "b = [i**2 for i in range(10)] # list comprehension\n",
    "print(b)"
   ]
  },
  {
   "cell_type": "code",
   "execution_count": 18,
   "metadata": {
    "collapsed": false
   },
   "outputs": [
    {
     "name": "stdout",
     "output_type": "stream",
     "text": [
      "[0, 1, 4, 9, 16, 25, 36, 49, 64, 81]\n"
     ]
    }
   ],
   "source": [
    "print(list(map(square, a)))  # map"
   ]
  },
  {
   "cell_type": "code",
   "execution_count": 19,
   "metadata": {
    "collapsed": false
   },
   "outputs": [
    {
     "name": "stdout",
     "output_type": "stream",
     "text": [
      "[0, 1, 4, 9, 16, 25, 36, 49, 64, 81]\n"
     ]
    }
   ],
   "source": [
    "squared = []                # for loop\n",
    "for elem in a:\n",
    "    squared.append(elem**2)\n",
    "print(squared)\n",
    "    "
   ]
  },
  {
   "cell_type": "code",
   "execution_count": 2,
   "metadata": {
    "collapsed": true
   },
   "outputs": [],
   "source": [
    "import numpy as np\n",
    "import pandas as pd"
   ]
  },
  {
   "cell_type": "code",
   "execution_count": 9,
   "metadata": {
    "collapsed": false
   },
   "outputs": [
    {
     "name": "stdout",
     "output_type": "stream",
     "text": [
      "<type 'list'>\n",
      "[[1 2 3 4]\n",
      " [5 6 7 8]]\n",
      "[[ 1.  2.  3.  4.]\n",
      " [ 5.  6.  7.  8.]]\n",
      "<type 'numpy.ndarray'>\n",
      "('np1:', array([[1, 2, 3, 4],\n",
      "       [5, 6, 7, 8]]))\n",
      "<type 'numpy.ndarray'>\n",
      "2\n",
      "(2, 4)\n",
      "int64\n",
      "4\n"
     ]
    }
   ],
   "source": [
    "# Creating ndarrays\n",
    "list1 = [[1, 2, 3, 4], [5, 6, 7, 8]]\n",
    "print(list1.__class__)\n",
    "\n",
    "# implicit data type\n",
    "np1 = np.array(list1)\n",
    "print(np1)\n",
    "\n",
    "# explicitly specify the data type\n",
    "np2 = np.array(list1, dtype=\"float64\")\n",
    "print(np2)\n",
    "\n",
    "print(np1.__class__)\n",
    "print(\"np1:\", np1)\n",
    "print(type(np1))\n",
    "print(len(np1))\n",
    "print(np1.shape)\n",
    "print(np1.dtype)\n",
    "print(len(np1[0]))"
   ]
  },
  {
   "cell_type": "code",
   "execution_count": 43,
   "metadata": {
    "collapsed": false
   },
   "outputs": [
    {
     "name": "stdout",
     "output_type": "stream",
     "text": [
      "[ 0.  0.  0.  0.  0.  0.  0.  0.  0.  0.]\n",
      "[[ 0.  0.  0.  0.  0.]\n",
      " [ 0.  0.  0.  0.  0.]\n",
      " [ 0.  0.  0.  0.  0.]]\n",
      "[[ 1.  1.  1.  1.]\n",
      " [ 1.  1.  1.  1.]]\n",
      "[[ 0  1  2  3  4]\n",
      " [ 5  6  7  8  9]\n",
      " [10 11 12 13 14]]\n",
      "[[ 1.  0.  0.]\n",
      " [ 0.  1.  0.]\n",
      " [ 0.  0.  1.]]\n"
     ]
    }
   ],
   "source": [
    "# useful initialization functions\n",
    "print(np.zeros(10))\n",
    "print(np.zeros((3, 5)))\n",
    "print(np.ones((2,4)))\n",
    "print(np.arange(15).reshape(3,5))\n",
    "print(np.identity(3))"
   ]
  },
  {
   "cell_type": "code",
   "execution_count": 35,
   "metadata": {
    "collapsed": false
   },
   "outputs": [
    {
     "data": {
      "text/plain": [
       "['Lock',\n",
       " 'RandomState',\n",
       " '__RandomState_ctor',\n",
       " '__all__',\n",
       " '__builtins__',\n",
       " '__doc__',\n",
       " '__file__',\n",
       " '__name__',\n",
       " '__package__',\n",
       " '__path__',\n",
       " '__warningregistry__',\n",
       " '_numpy_tester',\n",
       " 'absolute_import',\n",
       " 'bench',\n",
       " 'beta',\n",
       " 'binomial',\n",
       " 'bytes',\n",
       " 'chisquare',\n",
       " 'choice',\n",
       " 'dirichlet',\n",
       " 'division',\n",
       " 'exponential',\n",
       " 'f',\n",
       " 'gamma',\n",
       " 'geometric',\n",
       " 'get_state',\n",
       " 'gumbel',\n",
       " 'hypergeometric',\n",
       " 'info',\n",
       " 'laplace',\n",
       " 'logistic',\n",
       " 'lognormal',\n",
       " 'logseries',\n",
       " 'mtrand',\n",
       " 'multinomial',\n",
       " 'multivariate_normal',\n",
       " 'negative_binomial',\n",
       " 'noncentral_chisquare',\n",
       " 'noncentral_f',\n",
       " 'normal',\n",
       " 'np',\n",
       " 'operator',\n",
       " 'pareto',\n",
       " 'permutation',\n",
       " 'poisson',\n",
       " 'power',\n",
       " 'print_function',\n",
       " 'rand',\n",
       " 'randint',\n",
       " 'randn',\n",
       " 'random',\n",
       " 'random_integers',\n",
       " 'random_sample',\n",
       " 'ranf',\n",
       " 'rayleigh',\n",
       " 'sample',\n",
       " 'seed',\n",
       " 'set_state',\n",
       " 'shuffle',\n",
       " 'standard_cauchy',\n",
       " 'standard_exponential',\n",
       " 'standard_gamma',\n",
       " 'standard_normal',\n",
       " 'standard_t',\n",
       " 'test',\n",
       " 'triangular',\n",
       " 'uniform',\n",
       " 'vonmises',\n",
       " 'wald',\n",
       " 'warnings',\n",
       " 'weibull',\n",
       " 'zipf']"
      ]
     },
     "execution_count": 35,
     "metadata": {},
     "output_type": "execute_result"
    }
   ],
   "source": [
    "import random\n",
    "dir(np.random)"
   ]
  },
  {
   "cell_type": "code",
   "execution_count": 51,
   "metadata": {
    "collapsed": false
   },
   "outputs": [
    {
     "name": "stdout",
     "output_type": "stream",
     "text": [
      "[[-0.71041716 -1.87447478  1.35595266  1.10088678  0.20716933]\n",
      " [ 1.01181281 -1.32603172  0.38821449  0.49799739 -0.13167796]\n",
      " [-0.9950178  -0.20152432  0.4833846  -0.59537684 -1.55537977]]\n",
      "[[ 0.78236783  0.80077992  0.25186019  0.5392842   0.6188256 ]\n",
      " [ 0.33557804  0.17769449  0.79196865  0.94654557  0.06611434]\n",
      " [ 0.72625207  0.64899075  0.15511213  0.29458691  0.50823517]]\n"
     ]
    }
   ],
   "source": [
    "np.random.seed = 42\n",
    "print(np.random.randn(15).reshape(3, 5))  # normal random numbers 0 mean 1 std dev.\n",
    "print(np.random.random(15).reshape(3, 5)) # uniformly random numbers between 0 and 1"
   ]
  },
  {
   "cell_type": "code",
   "execution_count": 47,
   "metadata": {
    "collapsed": false
   },
   "outputs": [
    {
     "name": "stdout",
     "output_type": "stream",
     "text": [
      "[[1 7 7 5 7]\n",
      " [9 3 7 1 9]\n",
      " [1 3 1 5 7]]\n",
      "[[ 4  4  3 13  2]\n",
      " [14 11 14  4  2]\n",
      " [ 7 11 12 13  3]]\n"
     ]
    }
   ],
   "source": [
    "# create nd array with random numbers\n",
    "import random\n",
    "choices = [1, 3, 5, 7, 9]\n",
    "print(np.array([random.choice(choices) for i in range(15)]).reshape(3, 5))\n",
    "print(np.array([random.choice(range(15)) for i in range(15)]).reshape(3, 5))"
   ]
  },
  {
   "cell_type": "markdown",
   "metadata": {},
   "source": [
    "### Selecting Columns and Rows"
   ]
  },
  {
   "cell_type": "code",
   "execution_count": 53,
   "metadata": {
    "collapsed": false
   },
   "outputs": [
    {
     "data": {
      "text/plain": [
       "5"
      ]
     },
     "execution_count": 53,
     "metadata": {},
     "output_type": "execute_result"
    }
   ],
   "source": [
    "arr = np.arange(10)\n",
    "arr[5]"
   ]
  },
  {
   "cell_type": "code",
   "execution_count": 54,
   "metadata": {
    "collapsed": false
   },
   "outputs": [
    {
     "name": "stdout",
     "output_type": "stream",
     "text": [
      "[5 6 7]\n"
     ]
    }
   ],
   "source": [
    "print(arr[5:8]) "
   ]
  },
  {
   "cell_type": "code",
   "execution_count": 17,
   "metadata": {
    "collapsed": false
   },
   "outputs": [
    {
     "name": "stdout",
     "output_type": "stream",
     "text": [
      "[ 0  1  2  3  4 12 12 12  8  9]\n"
     ]
    }
   ],
   "source": [
    "arr[5:8] = 12\n",
    "print(arr)"
   ]
  },
  {
   "cell_type": "code",
   "execution_count": 18,
   "metadata": {
    "collapsed": false
   },
   "outputs": [
    {
     "name": "stdout",
     "output_type": "stream",
     "text": [
      "[1, 2, 3, 4, 5]\n",
      "[1, 2, 3, 4, 5]\n",
      "[1, 42, 3, 4, 5]\n"
     ]
    }
   ],
   "source": [
    "# Aliasing\n",
    "a = [1, 2, 3, 4, 5]\n",
    "b = a\n",
    "print(b)\n",
    "b = a[:]\n",
    "b[1] = 42\n",
    "print(a)\n",
    "print(b)"
   ]
  },
  {
   "cell_type": "code",
   "execution_count": 55,
   "metadata": {
    "collapsed": false
   },
   "outputs": [
    {
     "name": "stdout",
     "output_type": "stream",
     "text": [
      "[0 1 2 3 4]\n",
      "7\n"
     ]
    }
   ],
   "source": [
    "arr = np.arange(15).reshape(3, 5)\n",
    "print(arr[0])     # select 1st row (index 0)\n",
    "print(arr[1, 2])  # select 2nd row (index 1), 3rd column (index 2)"
   ]
  },
  {
   "cell_type": "code",
   "execution_count": 85,
   "metadata": {
    "collapsed": false,
    "hideOutput": true
   },
   "outputs": [
    {
     "name": "stdout",
     "output_type": "stream",
     "text": [
      "[[ 0  1  2  3  4]\n",
      " [ 5  6  7  8  9]\n",
      " [10 11 12 13 14]]\n",
      "[[0 1 2 3 4]\n",
      " [5 6 7 8 9]]\n",
      "[[ 5  6  7  8  9]\n",
      " [10 11 12 13 14]]\n"
     ]
    }
   ],
   "source": [
    "print(arr)\n",
    "print(arr[:2])  # till row 2\n",
    "print(arr[1:])  # from row 1 onwards"
   ]
  },
  {
   "cell_type": "code",
   "execution_count": 89,
   "metadata": {
    "collapsed": false
   },
   "outputs": [
    {
     "name": "stdout",
     "output_type": "stream",
     "text": [
      "[[ 0  1]\n",
      " [ 5  6]\n",
      " [10 11]]\n",
      "[[0 1]\n",
      " [5 6]]\n"
     ]
    }
   ],
   "source": [
    "print(arr[:, :2]) # all rows and first 2 columns\n",
    "print(arr[:2,:2])"
   ]
  },
  {
   "cell_type": "code",
   "execution_count": 94,
   "metadata": {
    "collapsed": false
   },
   "outputs": [
    {
     "name": "stdout",
     "output_type": "stream",
     "text": [
      "[[ 0  1  2  3  4]\n",
      " [ 5  6  7  8  9]\n",
      " [10 11 12 13 14]]\n",
      "(3, 5)\n",
      "[[ 0  5 10]\n",
      " [ 1  6 11]\n",
      " [ 2  7 12]\n",
      " [ 3  8 13]\n",
      " [ 4  9 14]]\n",
      "(5, 3)\n"
     ]
    }
   ],
   "source": [
    "# Transpose\n",
    "t = np.arange(15).reshape(3, 5)\n",
    "print(t)\n",
    "print(t.shape)\n",
    "tt = t.T\n",
    "print(tt)\n",
    "print(tt.shape)"
   ]
  },
  {
   "cell_type": "code",
   "execution_count": 99,
   "metadata": {
    "collapsed": false
   },
   "outputs": [
    {
     "name": "stdout",
     "output_type": "stream",
     "text": [
      "20\n",
      "[[ 30  80 130]\n",
      " [ 80 255 430]\n",
      " [130 430 730]]\n"
     ]
    }
   ],
   "source": [
    "# dot product\n",
    "a = [1, 2, 3]\n",
    "b = [2, 3, 4]\n",
    "print(np.dot(a, b))  # dot product of two vectors\n",
    "print(np.dot(t, tt)) # matrix multiplication"
   ]
  },
  {
   "cell_type": "code",
   "execution_count": 108,
   "metadata": {
    "collapsed": false
   },
   "outputs": [
    {
     "name": "stdout",
     "output_type": "stream",
     "text": [
      "('sqrt:', array([ 1.        ,  1.41421356,  1.73205081,  2.        ,  2.23606798,\n",
      "        2.44948974,  2.64575131,  2.82842712,  3.        ]))\n",
      "('exp:', array([  2.71828183e+00,   7.38905610e+00,   2.00855369e+01,\n",
      "         5.45981500e+01,   1.48413159e+02,   4.03428793e+02,\n",
      "         1.09663316e+03,   2.98095799e+03,   8.10308393e+03]))\n",
      "('square:', array([ 1,  4,  9, 16, 25, 36, 49, 64, 81]))\n",
      "('log10:', array([ 0.        ,  0.30103   ,  0.47712125,  0.60205999,  0.69897   ,\n",
      "        0.77815125,  0.84509804,  0.90308999,  0.95424251]))\n",
      "('log:', array([ 0.        ,  0.69314718,  1.09861229,  1.38629436,  1.60943791,\n",
      "        1.79175947,  1.94591015,  2.07944154,  2.19722458]))\n"
     ]
    }
   ],
   "source": [
    "# Universal functions (Unary)\n",
    "arr = np.arange(1,10)\n",
    "print(\"sqrt:\",np.sqrt(arr))\n",
    "print(\"exp:\",np.exp(arr))\n",
    "print(\"square:\", np.square(arr))\n",
    "print(\"log10:\", np.log10(arr))  # log base 10\n",
    "print(\"log:\", np.log(arr))      # natural log (base e)"
   ]
  },
  {
   "cell_type": "code",
   "execution_count": 116,
   "metadata": {
    "collapsed": false
   },
   "outputs": [
    {
     "name": "stdout",
     "output_type": "stream",
     "text": [
      "[12 14 16 18 20 22 24 26 28 30]\n",
      "[10 10 10 10 10 10 10 10 10 10]\n",
      "[ 11  24  39  56  75  96 119 144 171 200]\n",
      "[11  6  4  3  3  2  2  2  2  2]\n",
      "[ True  True  True  True  True  True  True  True  True  True]\n"
     ]
    }
   ],
   "source": [
    "# Universal function (Binary)\n",
    "a = np.arange(1, 11)\n",
    "b = np.arange(11, 21)\n",
    "print(np.add(a, b))\n",
    "print(np.subtract(b, a))\n",
    "print(np.multiply(a, b))\n",
    "print(np.divide(b, a))\n",
    "print(np.greater_equal(b, a))"
   ]
  },
  {
   "cell_type": "code",
   "execution_count": 117,
   "metadata": {
    "collapsed": false
   },
   "outputs": [
    {
     "name": "stdout",
     "output_type": "stream",
     "text": [
      "[ True  True False]\n",
      "[0 0 1]\n"
     ]
    }
   ],
   "source": [
    "x1 = [4, 2, 1]\n",
    "x2 = [2, 2, 2]\n",
    "print(np.greater_equal(x1, x2))\n",
    "print(np.mod(x1, x2))"
   ]
  },
  {
   "cell_type": "markdown",
   "metadata": {},
   "source": [
    "### Logical Operations"
   ]
  },
  {
   "cell_type": "code",
   "execution_count": 61,
   "metadata": {
    "collapsed": false
   },
   "outputs": [
    {
     "name": "stdout",
     "output_type": "stream",
     "text": [
      "[ True False False False]\n",
      "[ True  True  True False]\n",
      "[False  True  True False]\n",
      "[False  True False  True]\n"
     ]
    }
   ],
   "source": [
    "x1 = [True, False, True, False]\n",
    "x2 = [True, True, False, False]\n",
    "print(np.logical_and(x1, x2))\n",
    "print(np.logical_or(x1, x2))\n",
    "print(np.logical_xor(x1,x2))\n",
    "print(np.logical_not(x1))"
   ]
  },
  {
   "cell_type": "markdown",
   "metadata": {},
   "source": [
    "### Math and Stats built-in functions"
   ]
  },
  {
   "cell_type": "code",
   "execution_count": 63,
   "metadata": {
    "collapsed": false
   },
   "outputs": [
    {
     "name": "stdout",
     "output_type": "stream",
     "text": [
      "(3, 3)\n",
      "3.11111111111\n",
      "28\n",
      "2.23330569358\n"
     ]
    }
   ],
   "source": [
    "# math and stat functions\n",
    "arr = np.array([[0, 1, 2], [3, 2, 5], [6, 7, 2]])\n",
    "print(arr.shape)\n",
    "print(arr.mean())\n",
    "print(arr.sum())\n",
    "print(arr.std())\n",
    " \n"
   ]
  },
  {
   "cell_type": "code",
   "execution_count": 68,
   "metadata": {
    "collapsed": false
   },
   "outputs": [
    {
     "name": "stdout",
     "output_type": "stream",
     "text": [
      "[[ 0 10 20]\n",
      " [ 1 11 21]\n",
      " [ 2 12 22]\n",
      " [ 3 13 23]\n",
      " [ 4 14 24]\n",
      " [ 5 15 25]\n",
      " [ 6 16 26]\n",
      " [ 7 17 27]\n",
      " [ 8 18 28]\n",
      " [ 9 19 29]]\n",
      "(10, 3)\n",
      "[[ 0  1  2  3  4  5  6  7  8  9]\n",
      " [10 11 12 13 14 15 16 17 18 19]\n",
      " [20 21 22 23 24 25 26 27 28 29]]\n"
     ]
    }
   ],
   "source": [
    "# Combining Arrays\n",
    "x = np.arange(10)\n",
    "y = np.arange(10, 20)\n",
    "z = np.arange(20, 30)\n",
    "zp = np.array(list(zip(x, y, z))) # python 3 creates zip object\n",
    "print(zp)\n",
    "print(zp.shape)\n",
    "print(zp.T)"
   ]
  },
  {
   "cell_type": "code",
   "execution_count": 131,
   "metadata": {
    "collapsed": false
   },
   "outputs": [
    {
     "data": {
      "text/plain": [
       "array([[ 1.,  2.,  3.,  0.],\n",
       "       [ 2.,  3.,  4.,  0.]])"
      ]
     },
     "execution_count": 131,
     "metadata": {},
     "output_type": "execute_result"
    }
   ],
   "source": [
    "a = np.array([[1, 2, 3], [2, 3, 4]])\n",
    "z = np.zeros((2, 1))\n",
    "np.append(a, z, axis=1) # column bind"
   ]
  },
  {
   "cell_type": "code",
   "execution_count": 136,
   "metadata": {
    "collapsed": false
   },
   "outputs": [
    {
     "data": {
      "text/plain": [
       "array([[ 1.,  2.,  3.],\n",
       "       [ 2.,  3.,  4.],\n",
       "       [ 0.,  0.,  0.]])"
      ]
     },
     "execution_count": 136,
     "metadata": {},
     "output_type": "execute_result"
    }
   ],
   "source": [
    "z2 = np.zeros((1, 3))\n",
    "np.append(a, z2, axis=0) # row bind"
   ]
  },
  {
   "cell_type": "code",
   "execution_count": 73,
   "metadata": {
    "collapsed": false
   },
   "outputs": [
    {
     "name": "stdout",
     "output_type": "stream",
     "text": [
      "[[1 3 4]\n",
      " [2 3 4]]\n"
     ]
    }
   ],
   "source": [
    "# subsetting\n",
    "d = np.array([\n",
    "        [1, 2, 3],\n",
    "        [1, 3, 4],\n",
    "        [2, 2, 3],\n",
    "        [2, 3, 4]\n",
    "    ])\n",
    "print(d[d[:, 1] == 3])"
   ]
  },
  {
   "cell_type": "code",
   "execution_count": 77,
   "metadata": {
    "collapsed": false
   },
   "outputs": [
    {
     "name": "stdout",
     "output_type": "stream",
     "text": [
      "49.5\n",
      "49.5\n",
      "28.8660700477\n"
     ]
    }
   ],
   "source": [
    "x = np.arange(100)\n",
    "print(np.mean(x))\n",
    "print(np.median(x))\n",
    "print(np.std(x))"
   ]
  },
  {
   "cell_type": "markdown",
   "metadata": {},
   "source": [
    "### Concatenating Numpy Arrays"
   ]
  },
  {
   "cell_type": "code",
   "execution_count": 78,
   "metadata": {
    "collapsed": false
   },
   "outputs": [
    {
     "name": "stdout",
     "output_type": "stream",
     "text": [
      "[[ 0  1  2  3  0  1  2  3]\n",
      " [ 4  5  6  7  4  5  6  7]\n",
      " [ 8  9 10 11  8  9 10 11]]\n",
      "[[ 0  1  2  3]\n",
      " [ 4  5  6  7]\n",
      " [ 8  9 10 11]\n",
      " [ 0  1  2  3]\n",
      " [ 4  5  6  7]\n",
      " [ 8  9 10 11]]\n"
     ]
    }
   ],
   "source": [
    "arr = np.arange(12).reshape(3, 4)\n",
    "cc = np.concatenate([arr, arr], axis=1) # along columns\n",
    "cr = np.concatenate([arr, arr], axis=0) # along rows\n",
    "print(cc)\n",
    "print(cr)"
   ]
  },
  {
   "cell_type": "code",
   "execution_count": null,
   "metadata": {
    "collapsed": true
   },
   "outputs": [],
   "source": []
  }
 ],
 "metadata": {
  "anaconda-cloud": {},
  "kernelspec": {
   "display_name": "Python [conda env:anaconda]",
   "language": "python",
   "name": "conda-env-anaconda-py"
  },
  "language_info": {
   "codemirror_mode": {
    "name": "ipython",
    "version": 2
   },
   "file_extension": ".py",
   "mimetype": "text/x-python",
   "name": "python",
   "nbconvert_exporter": "python",
   "pygments_lexer": "ipython2",
   "version": "2.7.3"
  }
 },
 "nbformat": 4,
 "nbformat_minor": 1
}
